{
 "cells": [
  {
   "cell_type": "code",
   "execution_count": 1,
   "id": "c66e74db",
   "metadata": {},
   "outputs": [],
   "source": [
    "import numpy as np\n",
    "from scipy import stats\n"
   ]
  },
  {
   "cell_type": "code",
   "execution_count": 55,
   "id": "4aa89950",
   "metadata": {},
   "outputs": [
    {
     "name": "stdout",
     "output_type": "stream",
     "text": [
      "0.28 0.0007377026282063397\n",
      "0.24 0.0061340334218580265\n",
      "0.37 1.7527190839835072e-06\n",
      "0.15 0.21117008625127576\n",
      "0.34 1.605714367105695e-05\n",
      "0.16 0.1548386665118475\n",
      "0.25 0.0037294923618311367\n",
      "0.14 0.2819416298082479\n",
      "0.21 0.024055802841094577\n",
      "0.33 3.211428734211389e-05\n",
      "0.28 0.0007377026282063397\n",
      "0.19 0.05390207893129876\n",
      "0.29 0.0004117410017938115\n",
      "0.29 0.0004117410017938115\n",
      "0.26 0.002219935934558366\n",
      "0.22 0.015577131622877688\n",
      "0.26 0.002219935934558366\n",
      "0.33 3.211428734211389e-05\n",
      "0.32 6.281176788972264e-05\n",
      "0.29 0.0004117410017938115\n",
      "0.24 0.0061340334218580265\n",
      "0.27 0.0012935059781377376\n",
      "0.16 0.1548386665118475\n",
      "0.27 0.0012935059781377376\n",
      "0.33 3.211428734211389e-05\n",
      "0.22 0.015577131622877688\n",
      "0.29 0.0004117410017938115\n",
      "0.22 0.015577131622877688\n",
      "0.24 0.0061340334218580265\n",
      "0.29 0.0004117410017938115\n",
      "0.27 0.0012935059781377376\n",
      "0.27 0.0012935059781377376\n",
      "0.34 1.605714367105695e-05\n",
      "0.29 0.0004117410017938115\n",
      "0.34 1.605714367105695e-05\n",
      "0.27 0.0012935059781377376\n",
      "0.27 0.0012935059781377376\n",
      "0.23 0.009878183186176536\n",
      "0.26 0.002219935934558366\n",
      "0.32 6.281176788972264e-05\n",
      "0.31 0.00012016164291946694\n",
      "0.19 0.05390207893129876\n",
      "0.26 0.002219935934558366\n",
      "0.33 3.211428734211389e-05\n",
      "0.35 7.850159128072286e-06\n",
      "0.19 0.05390207893129876\n",
      "0.13 0.36818778606286096\n",
      "0.26 0.002219935934558366\n",
      "0.26 0.002219935934558366\n",
      "0.26 0.002219935934558366\n",
      "0.22 0.015577131622877688\n",
      "0.32 6.281176788972264e-05\n",
      "0.2 0.03638428787491733\n",
      "0.29 0.0004117410017938115\n",
      "0.27 0.0012935059781377376\n",
      "0.29 0.0004117410017938115\n",
      "0.18 0.07822115797841851\n",
      "0.22 0.015577131622877688\n",
      "0.23 0.009878183186176536\n",
      "0.28 0.0007377026282063397\n",
      "0.35 7.850159128072286e-06\n",
      "0.23 0.009878183186176536\n",
      "0.3 0.0002248739317492479\n",
      "0.26 0.002219935934558366\n",
      "0.19 0.05390207893129876\n",
      "0.21 0.024055802841094577\n",
      "0.27 0.0012935059781377376\n",
      "0.24 0.0061340334218580265\n",
      "0.39 3.5690338557186834e-07\n",
      "0.24 0.0061340334218580265\n",
      "0.17 0.11119526053829192\n",
      "0.25 0.0037294923618311367\n",
      "0.08 0.9084105017744525\n",
      "0.12 0.469506448503778\n",
      "0.33 3.211428734211389e-05\n",
      "0.35 7.850159128072286e-06\n",
      "0.37 1.7527190839835072e-06\n",
      "0.21 0.024055802841094577\n",
      "0.26 0.002219935934558366\n",
      "0.36 3.751914289152195e-06\n",
      "0.21 0.024055802841094577\n",
      "0.25 0.0037294923618311367\n",
      "0.21 0.024055802841094577\n",
      "0.29 0.0004117410017938115\n",
      "0.29 0.0004117410017938115\n",
      "0.25 0.0037294923618311367\n",
      "0.1 0.7020569828664881\n",
      "0.29 0.0004117410017938115\n",
      "0.26 0.002219935934558366\n",
      "0.25 0.0037294923618311367\n",
      "0.3 0.0002248739317492479\n",
      "0.28 0.0007377026282063397\n",
      "0.3 0.0002248739317492479\n",
      "0.33 3.211428734211389e-05\n",
      "0.33 3.211428734211389e-05\n",
      "0.2 0.03638428787491733\n",
      "0.28 0.0007377026282063397\n",
      "0.23 0.009878183186176536\n",
      "0.19 0.05390207893129876\n",
      "0.18 0.07822115797841851\n"
     ]
    }
   ],
   "source": [
    "def get_random_results(n_rows=100, n_cols=1):\n",
    "    return np.clip(np.random.normal(0.5, 0.2, (n_rows, n_cols)), 0, 1)\n",
    "\n",
    "for i in range(100):\n",
    "    a = get_random_results()\n",
    "    b = get_random_results() + 0.1\n",
    "    s, t = stats.kstest(a.flatten(), b.flatten())\n",
    "    print(s, t)"
   ]
  },
  {
   "cell_type": "code",
   "execution_count": 56,
   "id": "d2936ecf",
   "metadata": {},
   "outputs": [
    {
     "data": {
      "text/plain": [
       "0.994767718408118"
      ]
     },
     "execution_count": 56,
     "metadata": {},
     "output_type": "execute_result"
    }
   ],
   "source": [
    "from sklearn.datasets import load_breast_cancer\n",
    "from sklearn.linear_model import LogisticRegression\n",
    "from sklearn.metrics import roc_auc_score\n",
    "X, y = load_breast_cancer(return_X_y=True)\n",
    "clf = LogisticRegression(solver=\"liblinear\", random_state=0).fit(X, y)\n",
    "roc_auc_score(y, clf.predict_proba(X)[:, 1])\n",
    "\n",
    "roc_auc_score(y, clf.decision_function(X))"
   ]
  },
  {
   "cell_type": "code",
   "execution_count": 66,
   "id": "3d1833e5",
   "metadata": {},
   "outputs": [
    {
     "data": {
      "text/plain": [
       "[<matplotlib.lines.Line2D at 0x7f234eec7730>]"
      ]
     },
     "execution_count": 66,
     "metadata": {},
     "output_type": "execute_result"
    },
    {
     "data": {
      "image/png": "[encoded data removed]",
      "text/plain": [
       "<Figure size 432x288 with 1 Axes>"
      ]
     },
     "metadata": {
      "needs_background": "light"
     },
     "output_type": "display_data"
    }
   ],
   "source": [
    "from matplotlib import pyplot as plt\n",
    "from sklearn.metrics import roc_curve\n",
    "c = roc_curve(y, clf.predict_proba(X)[:, 1])\n",
    "plt.plot(np.linspace(0, 1, len(c[2])), c[1])"
   ]
  },
  {
   "cell_type": "code",
   "execution_count": 67,
   "id": "d8cd950f",
   "metadata": {},
   "outputs": [],
   "source": [
    "fpr, tpr, thresholds = roc_curve(y, clf.predict_proba(X)[:, 1])"
   ]
  },
  {
   "cell_type": "code",
   "execution_count": 68,
   "id": "bc4d8e42",
   "metadata": {},
   "outputs": [
    {
     "data": {
      "text/plain": [
       "[<matplotlib.lines.Line2D at 0x7f234eeaa730>]"
      ]
     },
     "execution_count": 68,
     "metadata": {},
     "output_type": "execute_result"
    },
    {
     "data": {
      "image/png": "[encoded data removed]",
      "text/plain": [
       "<Figure size 432x288 with 1 Axes>"
      ]
     },
     "metadata": {
      "needs_background": "light"
     },
     "output_type": "display_data"
    }
   ],
   "source": [
    "plt.plot(fpr, tpr)"
   ]
  },
  {
   "cell_type": "code",
   "execution_count": null,
   "id": "65fc1951",
   "metadata": {},
   "outputs": [],
   "source": []
  }
 ],
 "metadata": {
  "kernelspec": {
   "display_name": "Python 3 (ipykernel)",
   "language": "python",
   "name": "python3"
  },
  "language_info": {
   "codemirror_mode": {
    "name": "ipython",
    "version": 3
   },
   "file_extension": ".py",
   "mimetype": "text/x-python",
   "name": "python",
   "nbconvert_exporter": "python",
   "pygments_lexer": "ipython3",
   "version": "3.9.7"
  }
 },
 "nbformat": 4,
 "nbformat_minor": 5
}
