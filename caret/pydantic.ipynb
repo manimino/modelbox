{
 "cells": [
  {
   "cell_type": "code",
   "execution_count": 1,
   "id": "ed7a3ab0",
   "metadata": {},
   "outputs": [],
   "source": [
    "from datetime import date\n",
    "\n",
    "from pydantic import BaseModel\n",
    "\n",
    "# Declare a variable as a str\n",
    "# and get editor support inside the function\n",
    "def main(user_id: str):\n",
    "    return user_id\n",
    "\n",
    "\n",
    "# A Pydantic model\n",
    "class User(BaseModel):\n",
    "    id: int\n",
    "    name: str\n",
    "    joined: date"
   ]
  },
  {
   "cell_type": "code",
   "execution_count": 2,
   "id": "2a6d6a17",
   "metadata": {},
   "outputs": [],
   "source": [
    "my_user: User = User(id=3, name=\"John Doe\", joined=\"2018-07-19\")\n",
    "\n",
    "second_user_data = {\n",
    "    \"id\": 4,\n",
    "    \"name\": \"Mary\",\n",
    "    \"joined\": \"2018-11-30\",\n",
    "}\n",
    "\n",
    "my_second_user: User = User(**second_user_data)\n"
   ]
  },
  {
   "cell_type": "code",
   "execution_count": 3,
   "id": "14dea549",
   "metadata": {},
   "outputs": [
    {
     "ename": "ValidationError",
     "evalue": "1 validation error for User\njoined\n  invalid date format (type=value_error.date)",
     "output_type": "error",
     "traceback": [
      "\u001b[0;31m---------------------------------------------------------------------------\u001b[0m",
      "\u001b[0;31mValidationError\u001b[0m                           Traceback (most recent call last)",
      "\u001b[0;32m/tmp/ipykernel_108827/102037021.py\u001b[0m in \u001b[0;36m<module>\u001b[0;34m\u001b[0m\n\u001b[1;32m      5\u001b[0m }\n\u001b[1;32m      6\u001b[0m \u001b[0;34m\u001b[0m\u001b[0m\n\u001b[0;32m----> 7\u001b[0;31m \u001b[0mbad_user\u001b[0m\u001b[0;34m:\u001b[0m \u001b[0mUser\u001b[0m \u001b[0;34m=\u001b[0m \u001b[0mUser\u001b[0m\u001b[0;34m(\u001b[0m\u001b[0;34m**\u001b[0m\u001b[0mbad_data\u001b[0m\u001b[0;34m)\u001b[0m\u001b[0;34m\u001b[0m\u001b[0;34m\u001b[0m\u001b[0m\n\u001b[0m",
      "\u001b[0;32m~/anaconda3/lib/python3.9/site-packages/pydantic/main.cpython-39-x86_64-linux-gnu.so\u001b[0m in \u001b[0;36mpydantic.main.BaseModel.__init__\u001b[0;34m()\u001b[0m\n",
      "\u001b[0;31mValidationError\u001b[0m: 1 validation error for User\njoined\n  invalid date format (type=value_error.date)"
     ]
    }
   ],
   "source": [
    "bad_data = {\n",
    "    \"id\": 4,\n",
    "    \"name\": \"Mary\",\n",
    "    \"joined\": \"blurst\",\n",
    "}\n",
    "\n",
    "bad_user: User = User(**bad_data)\n"
   ]
  },
  {
   "cell_type": "code",
   "execution_count": null,
   "id": "aac643e2",
   "metadata": {},
   "outputs": [],
   "source": []
  }
 ],
 "metadata": {
  "kernelspec": {
   "display_name": "Python 3 (ipykernel)",
   "language": "python",
   "name": "python3"
  },
  "language_info": {
   "codemirror_mode": {
    "name": "ipython",
    "version": 3
   },
   "file_extension": ".py",
   "mimetype": "text/x-python",
   "name": "python",
   "nbconvert_exporter": "python",
   "pygments_lexer": "ipython3",
   "version": "3.9.7"
  }
 },
 "nbformat": 4,
 "nbformat_minor": 5
}
