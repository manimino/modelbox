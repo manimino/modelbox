{
 "cells": [
  {
   "cell_type": "code",
   "execution_count": 131,
   "id": "824cf89b",
   "metadata": {},
   "outputs": [],
   "source": [
    "import glob\n",
    "import os\n",
    "import pickle\n",
    "\n",
    "from sklearn.feature_extraction.text import TfidfVectorizer\n",
    "from sklearn.decomposition import TruncatedSVD\n",
    "from sklearn.cluster import k_means\n",
    "from sklearn.manifold import TSNE\n",
    "from sklearn.naive_bayes import GaussianNB\n",
    "from sklearn.metrics import accuracy_score, confusion_matrix\n",
    "from sklearn.model_selection import train_test_split\n",
    "import random\n",
    "\n",
    "from matplotlib import pyplot as plt"
   ]
  },
  {
   "cell_type": "code",
   "execution_count": 28,
   "id": "a1ee9c7d",
   "metadata": {},
   "outputs": [
    {
     "name": "stdout",
     "output_type": "stream",
     "text": [
      "error processing ./bbc/sport/199.txt\n"
     ]
    }
   ],
   "source": [
    "# ingest corpus, label by dir\n",
    "texts = {}\n",
    "for f in glob.glob('./bbc/*/*'):\n",
    "    if not 'txt' in f:\n",
    "        continue\n",
    "    lbl = f.split('/')[2]\n",
    "    if not lbl in texts:\n",
    "        texts[lbl] = []\n",
    "    with open(f) as fh:\n",
    "        try:\n",
    "            contents = ' '.join(fh.readlines())\n",
    "            texts[lbl].append(contents)\n",
    "        except Exception:\n",
    "            print('error processing', f)"
   ]
  },
  {
   "cell_type": "code",
   "execution_count": 30,
   "id": "78deda9a",
   "metadata": {},
   "outputs": [],
   "source": [
    "len(texts['business'])\n",
    "all_texts = []\n",
    "for k in texts:\n",
    "    all_texts.extend(texts[k])"
   ]
  },
  {
   "cell_type": "code",
   "execution_count": 38,
   "id": "acd2c29d",
   "metadata": {},
   "outputs": [],
   "source": [
    "tfiv = TfidfVectorizer()\n",
    "mat = tfiv.fit_transform(all_texts)"
   ]
  },
  {
   "cell_type": "code",
   "execution_count": 39,
   "id": "f808e9ba",
   "metadata": {},
   "outputs": [
    {
     "data": {
      "text/plain": [
       "(2224, 29418)"
      ]
     },
     "execution_count": 39,
     "metadata": {},
     "output_type": "execute_result"
    }
   ],
   "source": [
    "mat.shape"
   ]
  },
  {
   "cell_type": "code",
   "execution_count": 97,
   "id": "c5abd5a3",
   "metadata": {},
   "outputs": [],
   "source": [
    "svd = TruncatedSVD(n_components=50)"
   ]
  },
  {
   "cell_type": "code",
   "execution_count": 98,
   "id": "bf203ff0",
   "metadata": {},
   "outputs": [
    {
     "data": {
      "text/plain": [
       "TruncatedSVD(n_components=50)"
      ]
     },
     "execution_count": 98,
     "metadata": {},
     "output_type": "execute_result"
    }
   ],
   "source": [
    "svd.fit(mat)"
   ]
  },
  {
   "cell_type": "code",
   "execution_count": 99,
   "id": "d31ca4dd",
   "metadata": {},
   "outputs": [
    {
     "data": {
      "text/plain": [
       "(2224, 50)"
      ]
     },
     "execution_count": 99,
     "metadata": {},
     "output_type": "execute_result"
    }
   ],
   "source": [
    "mat50 = svd.transform(mat)\n",
    "mat50.shape"
   ]
  },
  {
   "cell_type": "code",
   "execution_count": 139,
   "id": "bcee1b45",
   "metadata": {},
   "outputs": [],
   "source": [
    "_, labels, _ = k_means(mat50, n_clusters=5)"
   ]
  },
  {
   "cell_type": "code",
   "execution_count": 138,
   "id": "dfc58c1e",
   "metadata": {},
   "outputs": [
    {
     "data": {
      "text/plain": [
       "<matplotlib.image.AxesImage at 0x7fb6f5523b50>"
      ]
     },
     "execution_count": 138,
     "metadata": {},
     "output_type": "execute_result"
    },
    {
     "data": {
      "image/png": "[encoded data removed]",
      "text/plain": [
       "<Figure size 432x288 with 1 Axes>"
      ]
     },
     "metadata": {
      "needs_background": "light"
     },
     "output_type": "display_data"
    }
   ],
   "source": [
    "# crappy heatmap.\n",
    "# looks like we can recover *some* classes well, but others not so much.\n",
    "# cluster 2 in particular does not discriminate well.\n",
    "true_labels = []\n",
    "for i, k in enumerate(texts.keys()):\n",
    "    true_labels.extend([i]*len(texts[k]))\n",
    "a = [random.random()/4 + g for g in true_labels]\n",
    "b = [random.random()/4 + g for g in labels]\n",
    "\n",
    "plt.imshow(confusion_matrix(true_labels, labels))"
   ]
  },
  {
   "cell_type": "code",
   "execution_count": 110,
   "id": "61871117",
   "metadata": {},
   "outputs": [],
   "source": [
    "label_mapping = {k: i for i, k in enumerate(texts.keys())}\n",
    "labels_numeric = []\n",
    "for k in texts:\n",
    "    labels_numeric.extend([label_mapping[k]]*len(texts[k]))\n"
   ]
  },
  {
   "cell_type": "code",
   "execution_count": 113,
   "id": "52710486",
   "metadata": {},
   "outputs": [
    {
     "data": {
      "text/plain": [
       "GaussianNB()"
      ]
     },
     "execution_count": 113,
     "metadata": {},
     "output_type": "execute_result"
    }
   ],
   "source": [
    "clf = GaussianNB()\n",
    "clf.fit(mat50, labels_numeric)"
   ]
  },
  {
   "cell_type": "code",
   "execution_count": 116,
   "id": "5f8b2af6",
   "metadata": {},
   "outputs": [],
   "source": [
    "yhat_train = clf.predict(mat50)\n",
    "y = labels_numeric"
   ]
  },
  {
   "cell_type": "code",
   "execution_count": 118,
   "id": "b1b3e105",
   "metadata": {},
   "outputs": [
    {
     "data": {
      "text/plain": [
       "0.9127697841726619"
      ]
     },
     "execution_count": 118,
     "metadata": {},
     "output_type": "execute_result"
    }
   ],
   "source": [
    "accuracy_score(y,yhat_train)"
   ]
  },
  {
   "cell_type": "code",
   "execution_count": 127,
   "id": "2e47cb80",
   "metadata": {},
   "outputs": [
    {
     "data": {
      "text/plain": [
       "0.9100719424460432"
      ]
     },
     "execution_count": 127,
     "metadata": {},
     "output_type": "execute_result"
    }
   ],
   "source": [
    "# test set accuracy\n",
    "X_train, X_test, y_train, y_test = train_test_split(mat50, y)\n",
    "clf.fit(X_train, y_train)\n",
    "yhat = clf.predict(X_test) \n",
    "accuracy_score(y_test,yhat)"
   ]
  },
  {
   "cell_type": "code",
   "execution_count": 132,
   "id": "3689a4ac",
   "metadata": {},
   "outputs": [
    {
     "data": {
      "text/plain": [
       "array([[111,   5,   2,   2,  11],\n",
       "       [  0, 100,   1,   1,   2],\n",
       "       [  1,   6,  81,   0,   7],\n",
       "       [  0,   0,   0, 120,   2],\n",
       "       [  0,   4,   3,   3,  94]])"
      ]
     },
     "execution_count": 132,
     "metadata": {},
     "output_type": "execute_result"
    }
   ],
   "source": [
    "confusion_matrix(y_test, yhat)"
   ]
  },
  {
   "cell_type": "code",
   "execution_count": 133,
   "id": "e52bc6e6",
   "metadata": {},
   "outputs": [],
   "source": [
    "# now let's say we have a new doc and want to know about it\n",
    "# \"find nearest\" can be done with cosine distance to doc matrix\n",
    "# classification can be done with classifier"
   ]
  },
  {
   "cell_type": "code",
   "execution_count": null,
   "id": "49427602",
   "metadata": {},
   "outputs": [],
   "source": []
  }
 ],
 "metadata": {
  "kernelspec": {
   "display_name": "Python 3 (ipykernel)",
   "language": "python",
   "name": "python3"
  },
  "language_info": {
   "codemirror_mode": {
    "name": "ipython",
    "version": 3
   },
   "file_extension": ".py",
   "mimetype": "text/x-python",
   "name": "python",
   "nbconvert_exporter": "python",
   "pygments_lexer": "ipython3",
   "version": "3.9.7"
  }
 },
 "nbformat": 4,
 "nbformat_minor": 5
}
